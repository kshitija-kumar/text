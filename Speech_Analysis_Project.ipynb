{
  "cells": [
    {
      "cell_type": "markdown",
      "metadata": {
        "id": "view-in-github",
        "colab_type": "text"
      },
      "source": [
        "<a href=\"https://colab.research.google.com/github/kshitija-kumar/text/blob/main/Speech_Analysis_Project.ipynb\" target=\"_parent\"><img src=\"https://colab.research.google.com/assets/colab-badge.svg\" alt=\"Open In Colab\"/></a>"
      ]
    },
    {
      "cell_type": "code",
      "execution_count": null,
      "metadata": {
        "colab": {
          "base_uri": "https://localhost:8080/"
        },
        "id": "x4_6mhSkATVS",
        "outputId": "625d02be-7243-4fd0-8fa0-5a439cde8398"
      },
      "outputs": [
        {
          "output_type": "stream",
          "name": "stdout",
          "text": [
            "Requirement already satisfied: pandas in /usr/local/lib/python3.10/dist-packages (2.2.2)\n",
            "Requirement already satisfied: scikit-learn in /usr/local/lib/python3.10/dist-packages (1.6.0)\n",
            "Requirement already satisfied: numpy>=1.22.4 in /usr/local/lib/python3.10/dist-packages (from pandas) (1.26.4)\n",
            "Requirement already satisfied: python-dateutil>=2.8.2 in /usr/local/lib/python3.10/dist-packages (from pandas) (2.8.2)\n",
            "Requirement already satisfied: pytz>=2020.1 in /usr/local/lib/python3.10/dist-packages (from pandas) (2024.2)\n",
            "Requirement already satisfied: tzdata>=2022.7 in /usr/local/lib/python3.10/dist-packages (from pandas) (2024.2)\n",
            "Requirement already satisfied: scipy>=1.6.0 in /usr/local/lib/python3.10/dist-packages (from scikit-learn) (1.13.1)\n",
            "Requirement already satisfied: joblib>=1.2.0 in /usr/local/lib/python3.10/dist-packages (from scikit-learn) (1.4.2)\n",
            "Requirement already satisfied: threadpoolctl>=3.1.0 in /usr/local/lib/python3.10/dist-packages (from scikit-learn) (3.5.0)\n",
            "Requirement already satisfied: six>=1.5 in /usr/local/lib/python3.10/dist-packages (from python-dateutil>=2.8.2->pandas) (1.17.0)\n"
          ]
        }
      ],
      "source": [
        "!pip install pandas scikit-learn"
      ]
    },
    {
      "cell_type": "code",
      "source": [],
      "metadata": {
        "id": "WcG8ZRroDQHX"
      },
      "execution_count": null,
      "outputs": []
    },
    {
      "cell_type": "code",
      "execution_count": null,
      "metadata": {
        "colab": {
          "base_uri": "https://localhost:8080/"
        },
        "id": "lsx82Im3AUt3",
        "outputId": "67166633-9104-4aab-be02-969b1353dfb7"
      },
      "outputs": [
        {
          "output_type": "stream",
          "name": "stdout",
          "text": [
            "Collecting SpeechRecognition\n",
            "  Downloading SpeechRecognition-3.13.0-py3-none-any.whl.metadata (30 kB)\n",
            "Collecting pydub\n",
            "  Downloading pydub-0.25.1-py2.py3-none-any.whl.metadata (1.4 kB)\n",
            "Requirement already satisfied: typing-extensions in /usr/local/lib/python3.10/dist-packages (from SpeechRecognition) (4.12.2)\n",
            "Downloading SpeechRecognition-3.13.0-py3-none-any.whl (32.8 MB)\n",
            "\u001b[2K   \u001b[90m━━━━━━━━━━━━━━━━━━━━━━━━━━━━━━━━━━━━━━━━\u001b[0m \u001b[32m32.8/32.8 MB\u001b[0m \u001b[31m31.7 MB/s\u001b[0m eta \u001b[36m0:00:00\u001b[0m\n",
            "\u001b[?25hDownloading pydub-0.25.1-py2.py3-none-any.whl (32 kB)\n",
            "Installing collected packages: pydub, SpeechRecognition\n",
            "Successfully installed SpeechRecognition-3.13.0 pydub-0.25.1\n"
          ]
        }
      ],
      "source": [
        "!pip install SpeechRecognition pydub\n",
        "\n",
        "\n"
      ]
    },
    {
      "cell_type": "code",
      "execution_count": null,
      "metadata": {
        "colab": {
          "base_uri": "https://localhost:8080/"
        },
        "id": "kcQtdgF5CGnZ",
        "outputId": "29908232-3ea6-4595-9052-3f338185f647"
      },
      "outputs": [
        {
          "output_type": "stream",
          "name": "stdout",
          "text": [
            "Requirement already satisfied: pydub in /usr/local/lib/python3.10/dist-packages (0.25.1)\n",
            "Requirement already satisfied: SpeechRecognition in /usr/local/lib/python3.10/dist-packages (3.13.0)\n",
            "Requirement already satisfied: typing-extensions in /usr/local/lib/python3.10/dist-packages (from SpeechRecognition) (4.12.2)\n",
            "Reading package lists... Done\n",
            "Building dependency tree... Done\n",
            "Reading state information... Done\n",
            "ffmpeg is already the newest version (7:4.4.2-0ubuntu0.22.04.1).\n",
            "0 upgraded, 0 newly installed, 0 to remove and 49 not upgraded.\n"
          ]
        }
      ],
      "source": [
        "!pip install pydub SpeechRecognition\n",
        "!apt-get install ffmpeg\n"
      ]
    },
    {
      "cell_type": "code",
      "execution_count": null,
      "metadata": {
        "colab": {
          "base_uri": "https://localhost:8080/"
        },
        "id": "sZ66xGxPe74r",
        "outputId": "e72153ea-0f2d-4798-cafc-ea856b1c0c60"
      },
      "outputs": [
        {
          "output_type": "stream",
          "name": "stdout",
          "text": [
            "Collecting datasets\n",
            "  Downloading datasets-3.2.0-py3-none-any.whl.metadata (20 kB)\n",
            "Requirement already satisfied: filelock in /usr/local/lib/python3.10/dist-packages (from datasets) (3.16.1)\n",
            "Requirement already satisfied: numpy>=1.17 in /usr/local/lib/python3.10/dist-packages (from datasets) (1.26.4)\n",
            "Requirement already satisfied: pyarrow>=15.0.0 in /usr/local/lib/python3.10/dist-packages (from datasets) (17.0.0)\n",
            "Collecting dill<0.3.9,>=0.3.0 (from datasets)\n",
            "  Downloading dill-0.3.8-py3-none-any.whl.metadata (10 kB)\n",
            "Requirement already satisfied: pandas in /usr/local/lib/python3.10/dist-packages (from datasets) (2.2.2)\n",
            "Requirement already satisfied: requests>=2.32.2 in /usr/local/lib/python3.10/dist-packages (from datasets) (2.32.3)\n",
            "Requirement already satisfied: tqdm>=4.66.3 in /usr/local/lib/python3.10/dist-packages (from datasets) (4.67.1)\n",
            "Collecting xxhash (from datasets)\n",
            "  Downloading xxhash-3.5.0-cp310-cp310-manylinux_2_17_x86_64.manylinux2014_x86_64.whl.metadata (12 kB)\n",
            "Collecting multiprocess<0.70.17 (from datasets)\n",
            "  Downloading multiprocess-0.70.16-py310-none-any.whl.metadata (7.2 kB)\n",
            "Collecting fsspec<=2024.9.0,>=2023.1.0 (from fsspec[http]<=2024.9.0,>=2023.1.0->datasets)\n",
            "  Downloading fsspec-2024.9.0-py3-none-any.whl.metadata (11 kB)\n",
            "Requirement already satisfied: aiohttp in /usr/local/lib/python3.10/dist-packages (from datasets) (3.11.11)\n",
            "Requirement already satisfied: huggingface-hub>=0.23.0 in /usr/local/lib/python3.10/dist-packages (from datasets) (0.27.1)\n",
            "Requirement already satisfied: packaging in /usr/local/lib/python3.10/dist-packages (from datasets) (24.2)\n",
            "Requirement already satisfied: pyyaml>=5.1 in /usr/local/lib/python3.10/dist-packages (from datasets) (6.0.2)\n",
            "Requirement already satisfied: aiohappyeyeballs>=2.3.0 in /usr/local/lib/python3.10/dist-packages (from aiohttp->datasets) (2.4.4)\n",
            "Requirement already satisfied: aiosignal>=1.1.2 in /usr/local/lib/python3.10/dist-packages (from aiohttp->datasets) (1.3.2)\n",
            "Requirement already satisfied: async-timeout<6.0,>=4.0 in /usr/local/lib/python3.10/dist-packages (from aiohttp->datasets) (4.0.3)\n",
            "Requirement already satisfied: attrs>=17.3.0 in /usr/local/lib/python3.10/dist-packages (from aiohttp->datasets) (24.3.0)\n",
            "Requirement already satisfied: frozenlist>=1.1.1 in /usr/local/lib/python3.10/dist-packages (from aiohttp->datasets) (1.5.0)\n",
            "Requirement already satisfied: multidict<7.0,>=4.5 in /usr/local/lib/python3.10/dist-packages (from aiohttp->datasets) (6.1.0)\n",
            "Requirement already satisfied: propcache>=0.2.0 in /usr/local/lib/python3.10/dist-packages (from aiohttp->datasets) (0.2.1)\n",
            "Requirement already satisfied: yarl<2.0,>=1.17.0 in /usr/local/lib/python3.10/dist-packages (from aiohttp->datasets) (1.18.3)\n",
            "Requirement already satisfied: typing-extensions>=3.7.4.3 in /usr/local/lib/python3.10/dist-packages (from huggingface-hub>=0.23.0->datasets) (4.12.2)\n",
            "Requirement already satisfied: charset-normalizer<4,>=2 in /usr/local/lib/python3.10/dist-packages (from requests>=2.32.2->datasets) (3.4.1)\n",
            "Requirement already satisfied: idna<4,>=2.5 in /usr/local/lib/python3.10/dist-packages (from requests>=2.32.2->datasets) (3.10)\n",
            "Requirement already satisfied: urllib3<3,>=1.21.1 in /usr/local/lib/python3.10/dist-packages (from requests>=2.32.2->datasets) (2.3.0)\n",
            "Requirement already satisfied: certifi>=2017.4.17 in /usr/local/lib/python3.10/dist-packages (from requests>=2.32.2->datasets) (2024.12.14)\n",
            "Requirement already satisfied: python-dateutil>=2.8.2 in /usr/local/lib/python3.10/dist-packages (from pandas->datasets) (2.8.2)\n",
            "Requirement already satisfied: pytz>=2020.1 in /usr/local/lib/python3.10/dist-packages (from pandas->datasets) (2024.2)\n",
            "Requirement already satisfied: tzdata>=2022.7 in /usr/local/lib/python3.10/dist-packages (from pandas->datasets) (2024.2)\n",
            "Requirement already satisfied: six>=1.5 in /usr/local/lib/python3.10/dist-packages (from python-dateutil>=2.8.2->pandas->datasets) (1.17.0)\n",
            "Downloading datasets-3.2.0-py3-none-any.whl (480 kB)\n",
            "\u001b[2K   \u001b[90m━━━━━━━━━━━━━━━━━━━━━━━━━━━━━━━━━━━━━━━━\u001b[0m \u001b[32m480.6/480.6 kB\u001b[0m \u001b[31m8.0 MB/s\u001b[0m eta \u001b[36m0:00:00\u001b[0m\n",
            "\u001b[?25hDownloading dill-0.3.8-py3-none-any.whl (116 kB)\n",
            "\u001b[2K   \u001b[90m━━━━━━━━━━━━━━━━━━━━━━━━━━━━━━━━━━━━━━━━\u001b[0m \u001b[32m116.3/116.3 kB\u001b[0m \u001b[31m5.8 MB/s\u001b[0m eta \u001b[36m0:00:00\u001b[0m\n",
            "\u001b[?25hDownloading fsspec-2024.9.0-py3-none-any.whl (179 kB)\n",
            "\u001b[2K   \u001b[90m━━━━━━━━━━━━━━━━━━━━━━━━━━━━━━━━━━━━━━━━\u001b[0m \u001b[32m179.3/179.3 kB\u001b[0m \u001b[31m11.5 MB/s\u001b[0m eta \u001b[36m0:00:00\u001b[0m\n",
            "\u001b[?25hDownloading multiprocess-0.70.16-py310-none-any.whl (134 kB)\n",
            "\u001b[2K   \u001b[90m━━━━━━━━━━━━━━━━━━━━━━━━━━━━━━━━━━━━━━━━\u001b[0m \u001b[32m134.8/134.8 kB\u001b[0m \u001b[31m7.4 MB/s\u001b[0m eta \u001b[36m0:00:00\u001b[0m\n",
            "\u001b[?25hDownloading xxhash-3.5.0-cp310-cp310-manylinux_2_17_x86_64.manylinux2014_x86_64.whl (194 kB)\n",
            "\u001b[2K   \u001b[90m━━━━━━━━━━━━━━━━━━━━━━━━━━━━━━━━━━━━━━━━\u001b[0m \u001b[32m194.1/194.1 kB\u001b[0m \u001b[31m8.5 MB/s\u001b[0m eta \u001b[36m0:00:00\u001b[0m\n",
            "\u001b[?25hInstalling collected packages: xxhash, fsspec, dill, multiprocess, datasets\n",
            "  Attempting uninstall: fsspec\n",
            "    Found existing installation: fsspec 2024.10.0\n",
            "    Uninstalling fsspec-2024.10.0:\n",
            "      Successfully uninstalled fsspec-2024.10.0\n",
            "\u001b[31mERROR: pip's dependency resolver does not currently take into account all the packages that are installed. This behaviour is the source of the following dependency conflicts.\n",
            "gcsfs 2024.10.0 requires fsspec==2024.10.0, but you have fsspec 2024.9.0 which is incompatible.\u001b[0m\u001b[31m\n",
            "\u001b[0mSuccessfully installed datasets-3.2.0 dill-0.3.8 fsspec-2024.9.0 multiprocess-0.70.16 xxhash-3.5.0\n"
          ]
        }
      ],
      "source": [
        "!pip install datasets"
      ]
    },
    {
      "cell_type": "code",
      "execution_count": null,
      "metadata": {
        "colab": {
          "base_uri": "https://localhost:8080/"
        },
        "id": "qHMrMrwRCvlu",
        "outputId": "c48b99bb-c8d6-4e5b-c027-100535755b4c"
      },
      "outputs": [
        {
          "output_type": "stream",
          "name": "stdout",
          "text": [
            "Mounted at /content/drive\n",
            "'10. max_heap_10 (1).c'\n",
            "'10. max_heap_10.c'\n",
            " 1-40f6b026-bb30-4698-98d8-546122a65120.pdf\n",
            " 1MS23CI003_A1.xlsx\n",
            " 24FBA516-B640-4639-9937-D1B3B4940405.mov\n",
            "'4th Semester Notes - AI & DS ML (2023-24)'\n",
            " aarib.jpg\n",
            "'Attendance BITS.gdoc'\n",
            "'attendance KR.gdoc'\n",
            "'Blockchain-Based Data Storage Techniques: A Literature Review.gdoc'\n",
            "'Case Study: Investigating the Mechanical Properties of Biodegradable Polylactic Acid (PLA) with Kenaf Fiber Reinforcement Using a Universal Testing Machine (UTM).gdoc'\n",
            "'Case Study: Investigating the Mechanical Properties of Biodegradable Polylactic Acid (PLA) with Kenaf Fiber Reinforcement Using a Universal Testing Machine (UTM).pdf'\n",
            "'Case Study: Unveiling the Efficiency of Water Hydraulics in Forestry Equipment.gdoc'\n",
            "'Case Study: Unveiling the Efficiency of Water Hydraulics in Forestry Equipment.pdf'\n",
            " _chat.gdoc\n",
            "'Christmas '\n",
            " Classroom\n",
            "'Colab Notebooks'\n",
            "'COMPLETE SEE.gslides'\n",
            "'Copy of 0.02 Advanced calculus MAM11 lesson plan.pdf'\n",
            "'Copy of Balake Kannada.pdf'\n",
            "'Copy of Chemical fuels.doc'\n",
            "'Copy of Chemical fuels.docx'\n",
            "'Copy of DebSoc Mentorship Program.gform'\n",
            "'Copy of DebSoc Mentorship Program (Responses).gsheet'\n",
            "'Copy of GUnit -3 Greedy algorithms.gslides'\n",
            "'Copy of GUnit -3 Greedy algorithms.pptx'\n",
            "'Copy of UNIT 1 Module 1.pptx'\n",
            "'Copy of Wolf Coaching Program aarib .gsheet'\n",
            " dataset\n",
            " Debsoc.gdoc\n",
            " DEBSOC.gdoc\n",
            "'DebSoc Mentorship Program (Responses).gsheet'\n",
            "'Document from Aarib'\n",
            "'Farewell Menu.gform'\n",
            "'Farewell Menu (Responses).gsheet'\n",
            "'Geothermal Energy.gslides'\n",
            " GSpark_Report-1.docx\n",
            " GSpark_Report.docx\n",
            " heart_disease_data.csv\n",
            "'heart disease prediction.gdoc'\n",
            "'IEM 1st Sem Study Material'\n",
            " IMG_0203.MOV\n",
            " IMG_20221225_114830.jpg\n",
            " IMG_20221225_142948.jpg\n",
            " IMG_20221225_151455.jpg\n",
            " IMG_20221225_151500.jpg\n",
            " IMG_20221225_151502.jpg\n",
            " IMG_20221225_164643.jpg\n",
            "'Mr AARIB ANWAR x1_copy.pdf'\n",
            "'Polynomials Sparse Matrix.pptx'\n",
            " PXL_20231125_132957373.MP_Original.jpg\n",
            " Resume.gdoc\n",
            "'Russia - Saturday at 2-36 PM.m4a'\n",
            "'Russia - Saturday at 2-36 PM.wav'\n",
            " Samples\n",
            "'Session rating scale_copy.pdf'\n",
            "'Study of the Impact of Biodiesel Blends on Performance and Emissions of a 4-Stroke Diesel Engine.gdoc'\n",
            "'Study of the Impact of Biodiesel Blends on Performance and Emissions of a 4-Stroke Diesel Engine.pdf'\n",
            "'Subject- Request for Access to College Email ID.gdoc'\n",
            "'Subject- Request for Issuance of New ID Card Due to Branch Change.gdoc'\n",
            "'Untitled document.gdoc'\n",
            "'Veil of Ignorance.gdoc'\n",
            "'Veil of Ignorance.pdf'\n",
            " VID_20221225_140621.mp4\n",
            " VID_20221225_141322.mp4\n",
            " VID_20221225_162350.mp4\n",
            " VID_20221225_164647.mp4\n",
            " VID_24571027_205923_605.mp4\n",
            " VID_24620127_050315_793.mp4\n"
          ]
        }
      ],
      "source": [
        "from google.colab import drive\n",
        "\n",
        "drive.mount('/content/drive')  # Mount Google Drive\n",
        "!ls /content/drive/My\\ Drive  # List files in your Drive\n"
      ]
    },
    {
      "cell_type": "code",
      "execution_count": null,
      "metadata": {
        "colab": {
          "base_uri": "https://localhost:8080/"
        },
        "id": "WG-4JJAHDQjU",
        "outputId": "9b1c5fac-74de-45e0-ccbf-f24468888ea0"
      },
      "outputs": [
        {
          "output_type": "stream",
          "name": "stdout",
          "text": [
            " Resume.gdoc\n",
            "'Russia - Saturday at 2-36 PM.wav'\n",
            "'Blockchain-Based Data Storage Techniques: A Literature Review.gdoc'\n",
            "'Russia - Saturday at 2-36 PM.m4a'\n",
            "'Session rating scale_copy.pdf'\n",
            "'DebSoc Mentorship Program (Responses).gsheet'\n",
            "'Copy of DebSoc Mentorship Program.gform'\n",
            "'Copy of DebSoc Mentorship Program (Responses).gsheet'\n",
            "'Subject- Request for Issuance of New ID Card Due to Branch Change.gdoc'\n",
            "'Subject- Request for Access to College Email ID.gdoc'\n",
            "'attendance KR.gdoc'\n",
            "'Attendance BITS.gdoc'\n",
            "'Copy of UNIT 1 Module 1.pptx'\n",
            " _chat.gdoc\n",
            " Classroom\n",
            "'Copy of Wolf Coaching Program aarib .gsheet'\n",
            "'Document from Aarib'\n",
            " 1MS23CI003_A1.xlsx\n",
            "'COMPLETE SEE.gslides'\n",
            "'Copy of GUnit -3 Greedy algorithms.gslides'\n",
            "'Copy of GUnit -3 Greedy algorithms.pptx'\n",
            " GSpark_Report.docx\n",
            " GSpark_Report-1.docx\n",
            "'Untitled document.gdoc'\n",
            " 1-40f6b026-bb30-4698-98d8-546122a65120.pdf\n",
            "'Farewell Menu.gform'\n",
            "'Farewell Menu (Responses).gsheet'\n",
            "'4th Semester Notes - AI & DS ML (2023-24)'\n",
            "'heart disease prediction.gdoc'\n",
            "'Mr AARIB ANWAR x1_copy.pdf'\n",
            "'Case Study: Investigating the Mechanical Properties of Biodegradable Polylactic Acid (PLA) with Kenaf Fiber Reinforcement Using a Universal Testing Machine (UTM).pdf'\n",
            "'Study of the Impact of Biodiesel Blends on Performance and Emissions of a 4-Stroke Diesel Engine.pdf'\n",
            "'Case Study: Unveiling the Efficiency of Water Hydraulics in Forestry Equipment.pdf'\n",
            "'Case Study: Unveiling the Efficiency of Water Hydraulics in Forestry Equipment.gdoc'\n",
            "'Study of the Impact of Biodiesel Blends on Performance and Emissions of a 4-Stroke Diesel Engine.gdoc'\n",
            "'Case Study: Investigating the Mechanical Properties of Biodegradable Polylactic Acid (PLA) with Kenaf Fiber Reinforcement Using a Universal Testing Machine (UTM).gdoc'\n",
            "'10. max_heap_10.c'\n",
            "'10. max_heap_10 (1).c'\n",
            " dataset\n",
            " DEBSOC.gdoc\n",
            " Debsoc.gdoc\n",
            "'Polynomials Sparse Matrix.pptx'\n",
            " PXL_20231125_132957373.MP_Original.jpg\n",
            " aarib.jpg\n",
            " IMG_0203.MOV\n",
            "'Copy of Balake Kannada.pdf'\n",
            "'Copy of 0.02 Advanced calculus MAM11 lesson plan.pdf'\n",
            "'Copy of Chemical fuels.docx'\n",
            "'Copy of Chemical fuels.doc'\n",
            "'IEM 1st Sem Study Material'\n",
            "'Geothermal Energy.gslides'\n",
            " 24FBA516-B640-4639-9937-D1B3B4940405.mov\n",
            "'Colab Notebooks'\n",
            " IMG_20221225_164643.jpg\n",
            " VID_24571027_205923_605.mp4\n",
            " VID_24620127_050315_793.mp4\n",
            " IMG_20221225_151500.jpg\n",
            " IMG_20221225_151502.jpg\n",
            " VID_20221225_162350.mp4\n",
            " VID_20221225_164647.mp4\n",
            " IMG_20221225_142948.jpg\n",
            " IMG_20221225_151455.jpg\n",
            " VID_20221225_140621.mp4\n",
            " VID_20221225_141322.mp4\n",
            " IMG_20221225_114830.jpg\n",
            "'Christmas '\n",
            " Samples\n",
            "'Veil of Ignorance.pdf'\n",
            "'Veil of Ignorance.gdoc'\n",
            " heart_disease_data.csv\n"
          ]
        }
      ],
      "source": [
        "!ls /content/drive/My\\Drive -t"
      ]
    },
    {
      "cell_type": "code",
      "execution_count": null,
      "metadata": {
        "id": "_WqxB8tIA299"
      },
      "outputs": [],
      "source": [
        "file_path = '/content/drive/My Drive/Russia - Saturday at 2-36 PM.m4a'\n"
      ]
    },
    {
      "cell_type": "code",
      "execution_count": null,
      "metadata": {
        "colab": {
          "base_uri": "https://localhost:8080/"
        },
        "id": "whiUwhU-DyPN",
        "outputId": "ad8327d2-8cd9-4b22-dfc2-b137720218fa"
      },
      "outputs": [
        {
          "output_type": "stream",
          "name": "stdout",
          "text": [
            "Requirement already satisfied: pydub in /usr/local/lib/python3.10/dist-packages (0.25.1)\n",
            "Requirement already satisfied: SpeechRecognition in /usr/local/lib/python3.10/dist-packages (3.13.0)\n",
            "Requirement already satisfied: typing-extensions in /usr/local/lib/python3.10/dist-packages (from SpeechRecognition) (4.12.2)\n",
            "Reading package lists... Done\n",
            "Building dependency tree... Done\n",
            "Reading state information... Done\n",
            "ffmpeg is already the newest version (7:4.4.2-0ubuntu0.22.04.1).\n",
            "0 upgraded, 0 newly installed, 0 to remove and 49 not upgraded.\n"
          ]
        }
      ],
      "source": [
        "!pip install pydub SpeechRecognition\n",
        "!apt-get install ffmpeg\n"
      ]
    },
    {
      "cell_type": "code",
      "execution_count": null,
      "metadata": {
        "colab": {
          "base_uri": "https://localhost:8080/"
        },
        "id": "4M9nXTDBco2Q",
        "outputId": "be6e77ee-28f6-4b0c-a407-7668b0e00109"
      },
      "outputs": [
        {
          "output_type": "execute_result",
          "data": {
            "text/plain": [
              "<_io.BufferedRandom name='/content/drive/My Drive/Russia - Saturday at 2-36 PM.wav'>"
            ]
          },
          "metadata": {},
          "execution_count": 9
        }
      ],
      "source": [
        "from pydub import AudioSegment\n",
        "\n",
        "# Load the M4A file\n",
        "m4a_audio = AudioSegment.from_file(\"/content/drive/My Drive/Russia - Saturday at 2-36 PM.m4a\", format=\"m4a\")\n",
        "\n",
        "# Export as WAV\n",
        "m4a_audio.export(\"/content/drive/My Drive/Russia - Saturday at 2-36 PM.wav\", format=\"wav\")\n"
      ]
    },
    {
      "cell_type": "code",
      "execution_count": null,
      "metadata": {
        "id": "pYn4IXHbdEGr"
      },
      "outputs": [],
      "source": [
        "\n",
        "\n",
        "# Load the WAV file into a variable called audio\n",
        "file_path = \"/content/drive/My Drive/Russia - Saturday at 2-36 PM.wav\"\n",
        "audio = AudioSegment.from_file(file_path, format=\"wav\")\n"
      ]
    },
    {
      "cell_type": "code",
      "execution_count": null,
      "metadata": {
        "colab": {
          "base_uri": "https://localhost:8080/"
        },
        "id": "eiX2mt_PDq7S",
        "outputId": "6f4ef975-6236-4402-ca10-6ebed25cfb93"
      },
      "outputs": [
        {
          "output_type": "stream",
          "name": "stdout",
          "text": [
            "Chunk 0 saved.\n",
            "Chunk 1 saved.\n",
            "Chunk 2 saved.\n",
            "Chunk 3 saved.\n",
            "Chunk 4 saved.\n",
            "Chunk 5 saved.\n",
            "Chunk 6 saved.\n",
            "Chunk 7 saved.\n",
            "Chunk 8 saved.\n",
            "Chunk 9 saved.\n",
            "Chunk 10 saved.\n",
            "Chunk 11 saved.\n",
            "Chunk 12 saved.\n",
            "Chunk 13 saved.\n",
            "Chunk 14 saved.\n"
          ]
        }
      ],
      "source": [
        "\n",
        "\n",
        "# Split into smaller chunks (e.g., 30 seconds each)\n",
        "chunk_length = 30 * 1000  # 30 seconds in milliseconds\n",
        "chunks = [audio[i:i + chunk_length] for i in range(0, len(audio), chunk_length)]\n",
        "\n",
        "# Export each chunk and process individually\n",
        "for idx, chunk in enumerate(chunks):\n",
        "    chunk.export(f\"chunk_{idx}.wav\", format=\"wav\")\n",
        "    print(f\"Chunk {idx} saved.\")\n"
      ]
    },
    {
      "cell_type": "code",
      "execution_count": null,
      "metadata": {
        "colab": {
          "base_uri": "https://localhost:8080/"
        },
        "id": "ARTno6daK0TZ",
        "outputId": "58f0ef86-87f4-43d4-9f81-8cac71a30699"
      },
      "outputs": [
        {
          "output_type": "execute_result",
          "data": {
            "text/plain": [
              "<_io.BufferedRandom name='converted_audio.wav'>"
            ]
          },
          "metadata": {},
          "execution_count": 12
        }
      ],
      "source": [
        "audio = audio.set_channels(1)  # Mono channel\n",
        "audio = audio.set_frame_rate(16000)  # 16 kHz sample rate\n",
        "audio.export(\"converted_audio.wav\", format=\"wav\")\n"
      ]
    },
    {
      "cell_type": "code",
      "execution_count": null,
      "metadata": {
        "colab": {
          "base_uri": "https://localhost:8080/"
        },
        "id": "km6tOSYLMewU",
        "outputId": "e0cf8c29-3917-4370-c1f2-14445cda8f5b"
      },
      "outputs": [
        {
          "output_type": "stream",
          "name": "stdout",
          "text": [
            "Chunk 0: Could not understand audio.\n",
            "Chunk 1: Could not understand audio.\n",
            "Chunk 2 Transcript:\n",
            "maintaining the Integrity of this country is supposed to be like Ukraine and furthermore the furthermore the Optics will have on other countries in similar situations such as even in like a China trying to take over Taiwan Etc these things will be very very important right now so given that if he changes his policy it is likely to be fasting\n",
            "\n",
            "Chunk 3: Could not understand audio.\n",
            "Chunk 4 Transcript:\n",
            "play in the whole world it has a by far the most powerful that symbolic aspect is very very important right so they are likely to be afraid of just doing anything if there's a symbolic symbol they're not going to get moving so slowly because if that goes away now Russia\n",
            "\n",
            "Chunk 5: Could not understand audio.\n",
            "Chunk 6: Could not understand audio.\n",
            "Chunk 7: Could not understand audio.\n",
            "Chunk 8: Could not understand audio.\n",
            "Chunk 9: Could not understand audio.\n",
            "Chunk 10: Could not understand audio.\n",
            "Chunk 11: Could not understand audio.\n",
            "Chunk 12 Transcript:\n",
            "turn off The Spectacular Spider-Man if he was the United States of America is going and helping Ukraine that does not mean that you have to go in invade Russia to help you create to the point about the Integrity of the NATO\n",
            "\n",
            "Chunk 13: Could not understand audio.\n",
            "Chunk 14: Could not understand audio.\n"
          ]
        }
      ],
      "source": [
        "import speech_recognition as sr\n",
        "\n",
        "# Initialize recognizer\n",
        "recognizer = sr.Recognizer()\n",
        "\n",
        "# Number of chunks (replace with actual count)\n",
        "num_chunks = len(chunks)  # Replace `chunks` with your list of file names or total number\n",
        "\n",
        "# List to store transcriptions\n",
        "transcriptions = []\n",
        "\n",
        "# Loop through each chunk\n",
        "for idx in range(num_chunks):\n",
        "    chunk_filename = f\"chunk_{idx}.wav\"\n",
        "    with sr.AudioFile(chunk_filename) as source:\n",
        "        audio_data = recognizer.record(source)\n",
        "        try:\n",
        "            text = recognizer.recognize_google(audio_data)\n",
        "            transcriptions.append(text)\n",
        "            print(f\"Chunk {idx} Transcript:\\n{text}\\n\")\n",
        "        except sr.RequestError as e:\n",
        "            print(f\"Error in Chunk {idx}: {e}\")\n",
        "            transcriptions.append(\"\")  # Append empty text for error\n",
        "        except sr.UnknownValueError:\n",
        "            print(f\"Chunk {idx}: Could not understand audio.\")\n",
        "            transcriptions.append(\"\")  # Append empty text for error\n"
      ]
    },
    {
      "cell_type": "code",
      "execution_count": null,
      "metadata": {
        "colab": {
          "base_uri": "https://localhost:8080/"
        },
        "id": "B7WicYpDEAED",
        "outputId": "268266a9-172b-4733-ce05-da880803fb70"
      },
      "outputs": [
        {
          "output_type": "stream",
          "name": "stdout",
          "text": [
            "This House believes that Donald trump should continue to push for ending the war in ukraine\n"
          ]
        }
      ],
      "source": [
        "motion = \"This House believes that Donald trump should continue to push for ending the war in ukraine\"\n",
        "print( motion)\n"
      ]
    },
    {
      "cell_type": "code",
      "execution_count": null,
      "metadata": {
        "colab": {
          "base_uri": "https://localhost:8080/"
        },
        "id": "mXoyi9bAMmNI",
        "outputId": "df208062-fdbb-4847-f556-2532672fc12c"
      },
      "outputs": [
        {
          "output_type": "stream",
          "name": "stdout",
          "text": [
            "Combined Speech Text:\n",
            "   maintaining the Integrity of this country is supposed to be like Ukraine and furthermore the furthermore the Optics will have on other countries in similar situations such as even in like a China trying to take over Taiwan Etc these things will be very very important right now so given that if he changes his policy it is likely to be fasting  play in the whole world it has a by far the most powerful that symbolic aspect is very very important right so they are likely to be afraid of just doing anything if there's a symbolic symbol they're not going to get moving so slowly because if that goes away now Russia        turn off The Spectacular Spider-Man if he was the United States of America is going and helping Ukraine that does not mean that you have to go in invade Russia to help you create to the point about the Integrity of the NATO  \n"
          ]
        }
      ],
      "source": [
        "# Combine all chunk transcriptions into one text\n",
        "speech_text = \" \".join(transcriptions)\n",
        "print(\"Combined Speech Text:\\n\", speech_text)\n"
      ]
    },
    {
      "cell_type": "code",
      "execution_count": null,
      "metadata": {
        "colab": {
          "base_uri": "https://localhost:8080/",
          "height": 339,
          "referenced_widgets": [
            "c161aee3ea614873b1a80c2657e4c4f9",
            "c3cd00f3f39b4d26836f2539489ecec5",
            "e5c302fbe8e8475fa01e842b10ac91b0",
            "8caba903572d425b93de8bf8b0bd7f2a",
            "b2486332370e4bf88c45bf7edb54d361",
            "4394ca0b33d14100b0cb6c2d8f6f54a0",
            "1373b10e11e442e689a907616d22c0f7",
            "1e28e3e6d6a4427bb671e62e2689bc81",
            "0afd27b1f361450d8caa6c48085176d8",
            "5cbe9491bfda46199d66fa943531187b",
            "45bc06895a6e4bcaa8e8b6fdc8dec5a0",
            "0d8ecb09514d4bbb8ecfcb7c15af073b",
            "12cb4279c1514b41a2af949bf81f938f",
            "453386aed3214dc490717e0dc77f05b2",
            "d2cbfa1b06da491aba410b1daf993ac2",
            "621f48a18cd34ff1a15def2368d5e1e0",
            "f49e164ed64a4437a318f5681e29d14d",
            "4a3cf25e65f2470184d0232d42fe0a63",
            "3e5e02c1928f469fa4be6bade77d3642",
            "2dbc941eb42c47d2978ffc33b9911c91",
            "dd85ef14fa334c9cae0c03a600981ee2",
            "7afd15fc879a46b98c16861af304c0e9",
            "a7eb9aee400a44149ecf8cb394c87ebf",
            "8b82f47db2b14e7e82179ae562d41c14",
            "e5902a5885b241bb8c3ced5e970b5074",
            "1a7a5a15ac6a45388880a2fa94935b07",
            "debadcd0a5f745488e44100640854f13",
            "7e01d1db5f514951bc881c49c2653814",
            "342a4c50821b4ed4948849680ab69bb4",
            "f050b70137a84ad59d35f440d954e5a0",
            "787aad6b23104d7d996bb00d36e8aa9e",
            "e742eb5b45944026a5df25f8ceca6ae3",
            "c11b0ba6fd224bc99538e513f16b0ca4",
            "08ad46ef6b134c23bdb26c879955f072",
            "4169c285929b46169a3d80f0f40ac73d",
            "62f00f5882464631832d0dc167261afb",
            "78c9234577e2403d98c68f58631db831",
            "6cc68057a4e742bf9004614a1d0e3d84",
            "22544dbeb5d64253a2b8e99faa6f6b3a",
            "90fccda22f7e44f3af1ea46565a31d30",
            "d3bcd12c44e34bada97cb02fe21d27f9",
            "e68d979112954629a4c8812199d913cd",
            "c81b74a7d01d4b7e8235af4d2fa372bb",
            "d70fbc4cdae7493391bd39ceeb7c3d4d"
          ]
        },
        "id": "23XWjs12LtfA",
        "outputId": "f65951f7-22c2-4700-814d-8e03a5543950"
      },
      "outputs": [
        {
          "output_type": "stream",
          "name": "stderr",
          "text": [
            "No model was supplied, defaulted to distilbert/distilbert-base-uncased-finetuned-sst-2-english and revision 714eb0f (https://huggingface.co/distilbert/distilbert-base-uncased-finetuned-sst-2-english).\n",
            "Using a pipeline without specifying a model name and revision in production is not recommended.\n",
            "/usr/local/lib/python3.10/dist-packages/huggingface_hub/utils/_auth.py:94: UserWarning: \n",
            "The secret `HF_TOKEN` does not exist in your Colab secrets.\n",
            "To authenticate with the Hugging Face Hub, create a token in your settings tab (https://huggingface.co/settings/tokens), set it as secret in your Google Colab and restart your session.\n",
            "You will be able to reuse this secret in all of your notebooks.\n",
            "Please note that authentication is recommended but still optional to access public models or datasets.\n",
            "  warnings.warn(\n"
          ]
        },
        {
          "output_type": "display_data",
          "data": {
            "text/plain": [
              "config.json:   0%|          | 0.00/629 [00:00<?, ?B/s]"
            ],
            "application/vnd.jupyter.widget-view+json": {
              "version_major": 2,
              "version_minor": 0,
              "model_id": "c161aee3ea614873b1a80c2657e4c4f9"
            }
          },
          "metadata": {}
        },
        {
          "output_type": "display_data",
          "data": {
            "text/plain": [
              "model.safetensors:   0%|          | 0.00/268M [00:00<?, ?B/s]"
            ],
            "application/vnd.jupyter.widget-view+json": {
              "version_major": 2,
              "version_minor": 0,
              "model_id": "0d8ecb09514d4bbb8ecfcb7c15af073b"
            }
          },
          "metadata": {}
        },
        {
          "output_type": "display_data",
          "data": {
            "text/plain": [
              "tokenizer_config.json:   0%|          | 0.00/48.0 [00:00<?, ?B/s]"
            ],
            "application/vnd.jupyter.widget-view+json": {
              "version_major": 2,
              "version_minor": 0,
              "model_id": "a7eb9aee400a44149ecf8cb394c87ebf"
            }
          },
          "metadata": {}
        },
        {
          "output_type": "display_data",
          "data": {
            "text/plain": [
              "vocab.txt:   0%|          | 0.00/232k [00:00<?, ?B/s]"
            ],
            "application/vnd.jupyter.widget-view+json": {
              "version_major": 2,
              "version_minor": 0,
              "model_id": "08ad46ef6b134c23bdb26c879955f072"
            }
          },
          "metadata": {}
        },
        {
          "output_type": "stream",
          "name": "stderr",
          "text": [
            "Device set to use cpu\n"
          ]
        },
        {
          "output_type": "stream",
          "name": "stdout",
          "text": [
            "Speech Sentiment Analysis: [{'label': 'POSITIVE', 'score': 0.9921093583106995}]\n"
          ]
        }
      ],
      "source": [
        "from transformers import pipeline\n",
        "\n",
        "# Load sentiment analysis pipeline\n",
        "sentiment_model = pipeline(\"sentiment-analysis\")\n",
        "\n",
        "# Evaluate sentiment\n",
        "speech_sentiment = sentiment_model(speech_text)\n",
        "print(\"Speech Sentiment Analysis:\", speech_sentiment)\n"
      ]
    },
    {
      "cell_type": "code",
      "execution_count": null,
      "metadata": {
        "colab": {
          "base_uri": "https://localhost:8080/"
        },
        "id": "7kwxJAFYe4U9",
        "outputId": "45f0146a-79ba-4d4a-d5d5-4da7ffede6e2"
      },
      "outputs": [
        {
          "output_type": "stream",
          "name": "stdout",
          "text": [
            "Collecting textstat\n",
            "  Downloading textstat-0.7.4-py3-none-any.whl.metadata (14 kB)\n",
            "Collecting pyphen (from textstat)\n",
            "  Downloading pyphen-0.17.0-py3-none-any.whl.metadata (3.2 kB)\n",
            "Requirement already satisfied: setuptools in /usr/local/lib/python3.10/dist-packages (from textstat) (75.1.0)\n",
            "Downloading textstat-0.7.4-py3-none-any.whl (105 kB)\n",
            "\u001b[2K   \u001b[90m━━━━━━━━━━━━━━━━━━━━━━━━━━━━━━━━━━━━━━━━\u001b[0m \u001b[32m105.1/105.1 kB\u001b[0m \u001b[31m3.0 MB/s\u001b[0m eta \u001b[36m0:00:00\u001b[0m\n",
            "\u001b[?25hDownloading pyphen-0.17.0-py3-none-any.whl (2.1 MB)\n",
            "\u001b[2K   \u001b[90m━━━━━━━━━━━━━━━━━━━━━━━━━━━━━━━━━━━━━━━━\u001b[0m \u001b[32m2.1/2.1 MB\u001b[0m \u001b[31m32.6 MB/s\u001b[0m eta \u001b[36m0:00:00\u001b[0m\n",
            "\u001b[?25hInstalling collected packages: pyphen, textstat\n",
            "Successfully installed pyphen-0.17.0 textstat-0.7.4\n"
          ]
        }
      ],
      "source": [
        "!pip install textstat"
      ]
    },
    {
      "cell_type": "code",
      "execution_count": null,
      "metadata": {
        "colab": {
          "base_uri": "https://localhost:8080/"
        },
        "id": "MN0e_8Aqe1I8",
        "outputId": "802c7b0d-41af-4ea5-a777-7d33ec48f964"
      },
      "outputs": [
        {
          "output_type": "stream",
          "name": "stdout",
          "text": [
            "Clarity Feedback:\n",
            " The speech length is appropriate.\n",
            "There are 1 long sentences. Consider breaking them into shorter sentences.\n",
            "The speech is complex and might be hard to understand. Simplify sentence structure or vocabulary.\n",
            "The speech has repeated words: the, is, that, if, be, in, very, of, to. Consider reducing repetition.\n",
            "The speech contains technical terms or jargon. Consider simplifying for a general audience.\n"
          ]
        }
      ],
      "source": [
        "import textstat\n",
        "\n",
        "def evaluate_clarity(speech_text):\n",
        "    feedback = []\n",
        "\n",
        "    # Analyze word count\n",
        "    word_count = len(speech_text.split())\n",
        "    if word_count > 500:\n",
        "        feedback.append(\"The speech is lengthy; consider shortening it for better clarity.\")\n",
        "    elif word_count < 50:\n",
        "        feedback.append(\"The speech is too brief and might lack detail.\")\n",
        "    else:\n",
        "        feedback.append(\"The speech length is appropriate.\")\n",
        "\n",
        "    # Analyze sentence length\n",
        "    sentences = speech_text.split('.')\n",
        "    long_sentences = [s for s in sentences if len(s.split()) > 20]\n",
        "    if long_sentences:\n",
        "        feedback.append(f\"There are {len(long_sentences)} long sentences. Consider breaking them into shorter sentences.\")\n",
        "\n",
        "    # Readability score\n",
        "    readability_score = textstat.flesch_reading_ease(speech_text)\n",
        "    if readability_score < 50:\n",
        "        feedback.append(\"The speech is complex and might be hard to understand. Simplify sentence structure or vocabulary.\")\n",
        "    else:\n",
        "        feedback.append(\"The speech is easy to read and understand.\")\n",
        "\n",
        "    # Check for repetition\n",
        "    words = speech_text.split()\n",
        "    repeated_words = {word for word in words if words.count(word) > 3}\n",
        "    if repeated_words:\n",
        "        feedback.append(f\"The speech has repeated words: {', '.join(repeated_words)}. Consider reducing repetition.\")\n",
        "\n",
        "    # Check for jargon\n",
        "    jargon_threshold = 8  # Example threshold for uncommon words\n",
        "    difficult_words = textstat.difficult_words(speech_text)\n",
        "    if difficult_words > jargon_threshold:\n",
        "        feedback.append(\"The speech contains technical terms or jargon. Consider simplifying for a general audience.\")\n",
        "\n",
        "    return \"\\n\".join(feedback)\n",
        "\n",
        "\n",
        "clarity_feedback = evaluate_clarity(speech_text)\n",
        "print(\"Clarity Feedback:\\n\", clarity_feedback)\n"
      ]
    },
    {
      "cell_type": "code",
      "execution_count": null,
      "metadata": {
        "colab": {
          "base_uri": "https://localhost:8080/",
          "height": 530
        },
        "id": "VCqgBiU_feP_",
        "outputId": "a2581254-db57-4111-95d5-fbdfa534bd93"
      },
      "outputs": [
        {
          "output_type": "stream",
          "name": "stdout",
          "text": [
            "Transcriptions retrieved from user namespace.\n",
            "Combined Speech Text:\n",
            " \n",
            "Similarity score: 0.0\n"
          ]
        },
        {
          "output_type": "display_data",
          "data": {
            "text/plain": [
              "<Figure size 600x400 with 1 Axes>"
            ],
            "image/png": "[encoded data removed]"
          },
          "metadata": {}
        },
        {
          "output_type": "stream",
          "name": "stdout",
          "text": [
            "Motion: This House believes that Donald Trump should continue to push for ending the war in Ukraine\n",
            "\n",
            "Alignment Feedback:\n",
            " None\n"
          ]
        }
      ],
      "source": [
        "from sklearn.feature_extraction.text import TfidfVectorizer\n",
        "from sklearn.metrics.pairwise import cosine_similarity\n",
        "import matplotlib.pyplot as plt\n",
        "import numpy as np\n",
        "from IPython import get_ipython\n",
        "\n",
        "\n",
        "# Get the 'transcriptions' variable from the IPython notebook's user namespace:\n",
        "try:\n",
        "    transcriptions = get_ipython().user_ns['transcriptions']\n",
        "    print(\"Transcriptions retrieved from user namespace.\")\n",
        "except KeyError:\n",
        "    print(\"Warning: 'transcriptions' not found in user namespace. Using an empty list.\")\n",
        "    transcriptions = []\n",
        "\n",
        "# Combine all chunk transcriptions into one text (if not already done)\n",
        "speech_text = \" \".join(transcriptions)\n",
        "print(\"Combined Speech Text:\\n\", speech_text) #Added this code to make sure speech_text is available inside the function\n",
        "\n",
        "def evaluate_alignment(speech_text, motion):\n",
        "    feedback = []\n",
        "\n",
        "    # Vectorize speech and motion for similarity analysis\n",
        "    vectorizer = TfidfVectorizer()\n",
        "    vectors = vectorizer.fit_transform([speech_text, motion])\n",
        "    similarity = cosine_similarity(vectors[0:1], vectors[1:2])[0][0]\n",
        "\n",
        "    # Print the similarity value for debugging:\n",
        "    print(f\"Similarity score: {similarity}\")\n",
        "\n",
        "    # Ensure matplotlib is using the correct backend for Google Colab\n",
        "    # %matplotlib inline  # If using Jupyter Notebook or Google Colab\n",
        "\n",
        "    #printing the graph\n",
        "    plt.figure(figsize=(6, 4))\n",
        "    plt.bar('Relevance', similarity, color='skyblue')\n",
        "    plt.title('Speech and Motion Alignment')\n",
        "    plt.ylabel('Relevance Score')\n",
        "    plt.ylim(0, 1)\n",
        "    plt.show() #Calling plt.show() should now correctly print the graphs inside the cell\n",
        "\n",
        "    # ... (Rest of your function code) ...\n",
        "\n",
        "# Example usage\n",
        "motion = \"This House believes that Donald Trump should continue to push for ending the war in Ukraine\"\n",
        "\n",
        "alignment_feedback = evaluate_alignment(speech_text, motion) #Now this line should work because speech_text is in the same scope.\n",
        "\n",
        "print(\"Motion:\", motion)\n",
        "print(\"\\nAlignment Feedback:\\n\", alignment_feedback)"
      ]
    },
    {
      "cell_type": "code",
      "execution_count": null,
      "metadata": {
        "colab": {
          "base_uri": "https://localhost:8080/",
          "height": 17
        },
        "id": "wtfWhSd3MxEK",
        "outputId": "2152a139-92a6-4d59-e605-e892e77b823a"
      },
      "outputs": [
        {
          "output_type": "display_data",
          "data": {
            "text/plain": [
              "<IPython.core.display.Javascript object>"
            ],
            "application/javascript": [
              "\n",
              "    async function download(id, filename, size) {\n",
              "      if (!google.colab.kernel.accessAllowed) {\n",
              "        return;\n",
              "      }\n",
              "      const div = document.createElement('div');\n",
              "      const label = document.createElement('label');\n",
              "      label.textContent = `Downloading \"${filename}\": `;\n",
              "      div.appendChild(label);\n",
              "      const progress = document.createElement('progress');\n",
              "      progress.max = size;\n",
              "      div.appendChild(progress);\n",
              "      document.body.appendChild(div);\n",
              "\n",
              "      const buffers = [];\n",
              "      let downloaded = 0;\n",
              "\n",
              "      const channel = await google.colab.kernel.comms.open(id);\n",
              "      // Send a message to notify the kernel that we're ready.\n",
              "      channel.send({})\n",
              "\n",
              "      for await (const message of channel.messages) {\n",
              "        // Send a message to notify the kernel that we're ready.\n",
              "        channel.send({})\n",
              "        if (message.buffers) {\n",
              "          for (const buffer of message.buffers) {\n",
              "            buffers.push(buffer);\n",
              "            downloaded += buffer.byteLength;\n",
              "            progress.value = downloaded;\n",
              "          }\n",
              "        }\n",
              "      }\n",
              "      const blob = new Blob(buffers, {type: 'application/binary'});\n",
              "      const a = document.createElement('a');\n",
              "      a.href = window.URL.createObjectURL(blob);\n",
              "      a.download = filename;\n",
              "      div.appendChild(a);\n",
              "      a.click();\n",
              "      div.remove();\n",
              "    }\n",
              "  "
            ]
          },
          "metadata": {}
        },
        {
          "output_type": "display_data",
          "data": {
            "text/plain": [
              "<IPython.core.display.Javascript object>"
            ],
            "application/javascript": [
              "download(\"download_da2dd5a4-de16-4b4f-a444-0fa3862b0111\", \"speech_analysis_results.txt\", 1367)"
            ]
          },
          "metadata": {}
        }
      ],
      "source": [
        "# Save results\n",
        "results_path = \"speech_analysis_results.txt\"\n",
        "with open(results_path, 'w') as file:\n",
        "    file.write(f\"Combined Speech Text:\\n{speech_text}\\n\\n\")\n",
        "    file.write(f\"Sentiment Analysis:\\n{speech_sentiment}\\n\\n\")\n",
        "    file.write(f\"Clarity Feedback:\\n{clarity_feedback}\\n\")\n",
        "\n",
        "# Optionally download the file\n",
        "from google.colab import files\n",
        "files.download(results_path)\n"
      ]
    },
    {
      "cell_type": "code",
      "source": [
        "import matplotlib.pyplot as plt\n",
        "import numpy as np\n",
        "\n",
        "sentences = speech_text.split('.')\n",
        "short_sentences = [s for s in sentences if len(s.split()) <= 20]\n",
        "long_sentences = [s for s in sentences if len(s.split()) > 20]\n",
        "\n",
        "# Data\n",
        "categories = ['Short Sentences', 'Long Sentences']\n",
        "values = [len(short_sentences), len(long_sentences)]\n",
        "\n",
        "plt.figure(figsize=(8, 6))\n",
        "plt.bar(categories, values, color=['lightblue', 'orange'])\n",
        "plt.title('Sentence Length Distribution')\n",
        "plt.ylabel('Number of Sentences')\n",
        "plt.show()"
      ],
      "metadata": {
        "colab": {
          "base_uri": "https://localhost:8080/",
          "height": 545
        },
        "id": "EUKLFqGADb3J",
        "outputId": "545b37fb-ebc5-4baf-aa50-9babfd0bdd89"
      },
      "execution_count": null,
      "outputs": [
        {
          "output_type": "display_data",
          "data": {
            "text/plain": [
              "<Figure size 800x600 with 1 Axes>"
            ],
            "image/png": "[encoded data removed]"
          },
          "metadata": {}
        }
      ]
    },
    {
      "cell_type": "code",
      "source": [
        "from sklearn.metrics import confusion_matrix\n",
        "import seaborn as sns\n",
        "import matplotlib.pyplot as plt\n",
        "\n",
        "# Replace the ellipsis with actual labels\n",
        "true_labels = ['POSITIVE', 'NEGATIVE', 'NEGATIVE', 'POSITIVE', 'NEGATIVE']  # Replace with your actual labels\n",
        "# Assuming predicted labels are from speech_sentiment. Ensure labels are consistent with true_labels\n",
        "predicted_labels = [speech_sentiment[0]['label'] for i in range(len(true_labels))]\n",
        "\n",
        "# Calculate the confusion matrix\n",
        "cm = confusion_matrix(true_labels, predicted_labels)\n",
        "\n",
        "# Visualize the confusion matrix\n",
        "plt.figure(figsize=(8, 6))\n",
        "sns.heatmap(cm, annot=True, fmt='d', cmap='Blues',\n",
        "            xticklabels=['Predicted Negative', 'Predicted Positive'],\n",
        "            yticklabels=['Actual Negative', 'Actual Positive'])\n",
        "plt.title('Sentiment Analysis Confusion Matrix')\n",
        "plt.xlabel('Predicted Label')\n",
        "plt.ylabel('True Label')\n",
        "plt.show()"
      ],
      "metadata": {
        "colab": {
          "base_uri": "https://localhost:8080/",
          "height": 564
        },
        "id": "6k5M45nfFQG3",
        "outputId": "b2aa7220-d8cc-4c02-8b94-79aab27e9802"
      },
      "execution_count": null,
      "outputs": [
        {
          "output_type": "display_data",
          "data": {
            "text/plain": [
              "<Figure size 800x600 with 2 Axes>"
            ],
            "image/png": "[encoded data removed]"
          },
          "metadata": {}
        }
      ]
    }
  ],
  "metadata": {
    "colab": {
      "provenance": [],
      "include_colab_link": true
    },
    "kernelspec": {
      "display_name": "Python 3",
      "name": "python3"
    },
    "language_info": {
      "name": "python"
    },
    "widgets": {
      "application/vnd.jupyter.widget-state+json": {
        "c161aee3ea614873b1a80c2657e4c4f9": {
          "model_module": "@jupyter-widgets/controls",
          "model_name": "HBoxModel",
          "model_module_version": "1.5.0",
          "state": {
            "_dom_classes": [],
            "_model_module": "@jupyter-widgets/controls",
            "_model_module_version": "1.5.0",
            "_model_name": "HBoxModel",
            "_view_count": null,
            "_view_module": "@jupyter-widgets/controls",
            "_view_module_version": "1.5.0",
            "_view_name": "HBoxView",
            "box_style": "",
            "children": [
              "IPY_MODEL_c3cd00f3f39b4d26836f2539489ecec5",
              "IPY_MODEL_e5c302fbe8e8475fa01e842b10ac91b0",
              "IPY_MODEL_8caba903572d425b93de8bf8b0bd7f2a"
            ],
            "layout": "IPY_MODEL_b2486332370e4bf88c45bf7edb54d361"
          }
        },
        "c3cd00f3f39b4d26836f2539489ecec5": {
          "model_module": "@jupyter-widgets/controls",
          "model_name": "HTMLModel",
          "model_module_version": "1.5.0",
          "state": {
            "_dom_classes": [],
            "_model_module": "@jupyter-widgets/controls",
            "_model_module_version": "1.5.0",
            "_model_name": "HTMLModel",
            "_view_count": null,
            "_view_module": "@jupyter-widgets/controls",
            "_view_module_version": "1.5.0",
            "_view_name": "HTMLView",
            "description": "",
            "description_tooltip": null,
            "layout": "IPY_MODEL_4394ca0b33d14100b0cb6c2d8f6f54a0",
            "placeholder": "​",
            "style": "IPY_MODEL_1373b10e11e442e689a907616d22c0f7",
            "value": "config.json: 100%"
          }
        },
        "e5c302fbe8e8475fa01e842b10ac91b0": {
          "model_module": "@jupyter-widgets/controls",
          "model_name": "FloatProgressModel",
          "model_module_version": "1.5.0",
          "state": {
            "_dom_classes": [],
            "_model_module": "@jupyter-widgets/controls",
            "_model_module_version": "1.5.0",
            "_model_name": "FloatProgressModel",
            "_view_count": null,
            "_view_module": "@jupyter-widgets/controls",
            "_view_module_version": "1.5.0",
            "_view_name": "ProgressView",
            "bar_style": "success",
            "description": "",
            "description_tooltip": null,
            "layout": "IPY_MODEL_1e28e3e6d6a4427bb671e62e2689bc81",
            "max": 629,
            "min": 0,
            "orientation": "horizontal",
            "style": "IPY_MODEL_0afd27b1f361450d8caa6c48085176d8",
            "value": 629
          }
        },
        "8caba903572d425b93de8bf8b0bd7f2a": {
          "model_module": "@jupyter-widgets/controls",
          "model_name": "HTMLModel",
          "model_module_version": "1.5.0",
          "state": {
            "_dom_classes": [],
            "_model_module": "@jupyter-widgets/controls",
            "_model_module_version": "1.5.0",
            "_model_name": "HTMLModel",
            "_view_count": null,
            "_view_module": "@jupyter-widgets/controls",
            "_view_module_version": "1.5.0",
            "_view_name": "HTMLView",
            "description": "",
            "description_tooltip": null,
            "layout": "IPY_MODEL_5cbe9491bfda46199d66fa943531187b",
            "placeholder": "​",
            "style": "IPY_MODEL_45bc06895a6e4bcaa8e8b6fdc8dec5a0",
            "value": " 629/629 [00:00&lt;00:00, 20.3kB/s]"
          }
        },
        "b2486332370e4bf88c45bf7edb54d361": {
          "model_module": "@jupyter-widgets/base",
          "model_name": "LayoutModel",
          "model_module_version": "1.2.0",
          "state": {
            "_model_module": "@jupyter-widgets/base",
            "_model_module_version": "1.2.0",
            "_model_name": "LayoutModel",
            "_view_count": null,
            "_view_module": "@jupyter-widgets/base",
            "_view_module_version": "1.2.0",
            "_view_name": "LayoutView",
            "align_content": null,
            "align_items": null,
            "align_self": null,
            "border": null,
            "bottom": null,
            "display": null,
            "flex": null,
            "flex_flow": null,
            "grid_area": null,
            "grid_auto_columns": null,
            "grid_auto_flow": null,
            "grid_auto_rows": null,
            "grid_column": null,
            "grid_gap": null,
            "grid_row": null,
            "grid_template_areas": null,
            "grid_template_columns": null,
            "grid_template_rows": null,
            "height": null,
            "justify_content": null,
            "justify_items": null,
            "left": null,
            "margin": null,
            "max_height": null,
            "max_width": null,
            "min_height": null,
            "min_width": null,
            "object_fit": null,
            "object_position": null,
            "order": null,
            "overflow": null,
            "overflow_x": null,
            "overflow_y": null,
            "padding": null,
            "right": null,
            "top": null,
            "visibility": null,
            "width": null
          }
        },
        "4394ca0b33d14100b0cb6c2d8f6f54a0": {
          "model_module": "@jupyter-widgets/base",
          "model_name": "LayoutModel",
          "model_module_version": "1.2.0",
          "state": {
            "_model_module": "@jupyter-widgets/base",
            "_model_module_version": "1.2.0",
            "_model_name": "LayoutModel",
            "_view_count": null,
            "_view_module": "@jupyter-widgets/base",
            "_view_module_version": "1.2.0",
            "_view_name": "LayoutView",
            "align_content": null,
            "align_items": null,
            "align_self": null,
            "border": null,
            "bottom": null,
            "display": null,
            "flex": null,
            "flex_flow": null,
            "grid_area": null,
            "grid_auto_columns": null,
            "grid_auto_flow": null,
            "grid_auto_rows": null,
            "grid_column": null,
            "grid_gap": null,
            "grid_row": null,
            "grid_template_areas": null,
            "grid_template_columns": null,
            "grid_template_rows": null,
            "height": null,
            "justify_content": null,
            "justify_items": null,
            "left": null,
            "margin": null,
            "max_height": null,
            "max_width": null,
            "min_height": null,
            "min_width": null,
            "object_fit": null,
            "object_position": null,
            "order": null,
            "overflow": null,
            "overflow_x": null,
            "overflow_y": null,
            "padding": null,
            "right": null,
            "top": null,
            "visibility": null,
            "width": null
          }
        },
        "1373b10e11e442e689a907616d22c0f7": {
          "model_module": "@jupyter-widgets/controls",
          "model_name": "DescriptionStyleModel",
          "model_module_version": "1.5.0",
          "state": {
            "_model_module": "@jupyter-widgets/controls",
            "_model_module_version": "1.5.0",
            "_model_name": "DescriptionStyleModel",
            "_view_count": null,
            "_view_module": "@jupyter-widgets/base",
            "_view_module_version": "1.2.0",
            "_view_name": "StyleView",
            "description_width": ""
          }
        },
        "1e28e3e6d6a4427bb671e62e2689bc81": {
          "model_module": "@jupyter-widgets/base",
          "model_name": "LayoutModel",
          "model_module_version": "1.2.0",
          "state": {
            "_model_module": "@jupyter-widgets/base",
            "_model_module_version": "1.2.0",
            "_model_name": "LayoutModel",
            "_view_count": null,
            "_view_module": "@jupyter-widgets/base",
            "_view_module_version": "1.2.0",
            "_view_name": "LayoutView",
            "align_content": null,
            "align_items": null,
            "align_self": null,
            "border": null,
            "bottom": null,
            "display": null,
            "flex": null,
            "flex_flow": null,
            "grid_area": null,
            "grid_auto_columns": null,
            "grid_auto_flow": null,
            "grid_auto_rows": null,
            "grid_column": null,
            "grid_gap": null,
            "grid_row": null,
            "grid_template_areas": null,
            "grid_template_columns": null,
            "grid_template_rows": null,
            "height": null,
            "justify_content": null,
            "justify_items": null,
            "left": null,
            "margin": null,
            "max_height": null,
            "max_width": null,
            "min_height": null,
            "min_width": null,
            "object_fit": null,
            "object_position": null,
            "order": null,
            "overflow": null,
            "overflow_x": null,
            "overflow_y": null,
            "padding": null,
            "right": null,
            "top": null,
            "visibility": null,
            "width": null
          }
        },
        "0afd27b1f361450d8caa6c48085176d8": {
          "model_module": "@jupyter-widgets/controls",
          "model_name": "ProgressStyleModel",
          "model_module_version": "1.5.0",
          "state": {
            "_model_module": "@jupyter-widgets/controls",
            "_model_module_version": "1.5.0",
            "_model_name": "ProgressStyleModel",
            "_view_count": null,
            "_view_module": "@jupyter-widgets/base",
            "_view_module_version": "1.2.0",
            "_view_name": "StyleView",
            "bar_color": null,
            "description_width": ""
          }
        },
        "5cbe9491bfda46199d66fa943531187b": {
          "model_module": "@jupyter-widgets/base",
          "model_name": "LayoutModel",
          "model_module_version": "1.2.0",
          "state": {
            "_model_module": "@jupyter-widgets/base",
            "_model_module_version": "1.2.0",
            "_model_name": "LayoutModel",
            "_view_count": null,
            "_view_module": "@jupyter-widgets/base",
            "_view_module_version": "1.2.0",
            "_view_name": "LayoutView",
            "align_content": null,
            "align_items": null,
            "align_self": null,
            "border": null,
            "bottom": null,
            "display": null,
            "flex": null,
            "flex_flow": null,
            "grid_area": null,
            "grid_auto_columns": null,
            "grid_auto_flow": null,
            "grid_auto_rows": null,
            "grid_column": null,
            "grid_gap": null,
            "grid_row": null,
            "grid_template_areas": null,
            "grid_template_columns": null,
            "grid_template_rows": null,
            "height": null,
            "justify_content": null,
            "justify_items": null,
            "left": null,
            "margin": null,
            "max_height": null,
            "max_width": null,
            "min_height": null,
            "min_width": null,
            "object_fit": null,
            "object_position": null,
            "order": null,
            "overflow": null,
            "overflow_x": null,
            "overflow_y": null,
            "padding": null,
            "right": null,
            "top": null,
            "visibility": null,
            "width": null
          }
        },
        "45bc06895a6e4bcaa8e8b6fdc8dec5a0": {
          "model_module": "@jupyter-widgets/controls",
          "model_name": "DescriptionStyleModel",
          "model_module_version": "1.5.0",
          "state": {
            "_model_module": "@jupyter-widgets/controls",
            "_model_module_version": "1.5.0",
            "_model_name": "DescriptionStyleModel",
            "_view_count": null,
            "_view_module": "@jupyter-widgets/base",
            "_view_module_version": "1.2.0",
            "_view_name": "StyleView",
            "description_width": ""
          }
        },
        "0d8ecb09514d4bbb8ecfcb7c15af073b": {
          "model_module": "@jupyter-widgets/controls",
          "model_name": "HBoxModel",
          "model_module_version": "1.5.0",
          "state": {
            "_dom_classes": [],
            "_model_module": "@jupyter-widgets/controls",
            "_model_module_version": "1.5.0",
            "_model_name": "HBoxModel",
            "_view_count": null,
            "_view_module": "@jupyter-widgets/controls",
            "_view_module_version": "1.5.0",
            "_view_name": "HBoxView",
            "box_style": "",
            "children": [
              "IPY_MODEL_12cb4279c1514b41a2af949bf81f938f",
              "IPY_MODEL_453386aed3214dc490717e0dc77f05b2",
              "IPY_MODEL_d2cbfa1b06da491aba410b1daf993ac2"
            ],
            "layout": "IPY_MODEL_621f48a18cd34ff1a15def2368d5e1e0"
          }
        },
        "12cb4279c1514b41a2af949bf81f938f": {
          "model_module": "@jupyter-widgets/controls",
          "model_name": "HTMLModel",
          "model_module_version": "1.5.0",
          "state": {
            "_dom_classes": [],
            "_model_module": "@jupyter-widgets/controls",
            "_model_module_version": "1.5.0",
            "_model_name": "HTMLModel",
            "_view_count": null,
            "_view_module": "@jupyter-widgets/controls",
            "_view_module_version": "1.5.0",
            "_view_name": "HTMLView",
            "description": "",
            "description_tooltip": null,
            "layout": "IPY_MODEL_f49e164ed64a4437a318f5681e29d14d",
            "placeholder": "​",
            "style": "IPY_MODEL_4a3cf25e65f2470184d0232d42fe0a63",
            "value": "model.safetensors: 100%"
          }
        },
        "453386aed3214dc490717e0dc77f05b2": {
          "model_module": "@jupyter-widgets/controls",
          "model_name": "FloatProgressModel",
          "model_module_version": "1.5.0",
          "state": {
            "_dom_classes": [],
            "_model_module": "@jupyter-widgets/controls",
            "_model_module_version": "1.5.0",
            "_model_name": "FloatProgressModel",
            "_view_count": null,
            "_view_module": "@jupyter-widgets/controls",
            "_view_module_version": "1.5.0",
            "_view_name": "ProgressView",
            "bar_style": "success",
            "description": "",
            "description_tooltip": null,
            "layout": "IPY_MODEL_3e5e02c1928f469fa4be6bade77d3642",
            "max": 267832558,
            "min": 0,
            "orientation": "horizontal",
            "style": "IPY_MODEL_2dbc941eb42c47d2978ffc33b9911c91",
            "value": 267832558
          }
        },
        "d2cbfa1b06da491aba410b1daf993ac2": {
          "model_module": "@jupyter-widgets/controls",
          "model_name": "HTMLModel",
          "model_module_version": "1.5.0",
          "state": {
            "_dom_classes": [],
            "_model_module": "@jupyter-widgets/controls",
            "_model_module_version": "1.5.0",
            "_model_name": "HTMLModel",
            "_view_count": null,
            "_view_module": "@jupyter-widgets/controls",
            "_view_module_version": "1.5.0",
            "_view_name": "HTMLView",
            "description": "",
            "description_tooltip": null,
            "layout": "IPY_MODEL_dd85ef14fa334c9cae0c03a600981ee2",
            "placeholder": "​",
            "style": "IPY_MODEL_7afd15fc879a46b98c16861af304c0e9",
            "value": " 268M/268M [00:01&lt;00:00, 176MB/s]"
          }
        },
        "621f48a18cd34ff1a15def2368d5e1e0": {
          "model_module": "@jupyter-widgets/base",
          "model_name": "LayoutModel",
          "model_module_version": "1.2.0",
          "state": {
            "_model_module": "@jupyter-widgets/base",
            "_model_module_version": "1.2.0",
            "_model_name": "LayoutModel",
            "_view_count": null,
            "_view_module": "@jupyter-widgets/base",
            "_view_module_version": "1.2.0",
            "_view_name": "LayoutView",
            "align_content": null,
            "align_items": null,
            "align_self": null,
            "border": null,
            "bottom": null,
            "display": null,
            "flex": null,
            "flex_flow": null,
            "grid_area": null,
            "grid_auto_columns": null,
            "grid_auto_flow": null,
            "grid_auto_rows": null,
            "grid_column": null,
            "grid_gap": null,
            "grid_row": null,
            "grid_template_areas": null,
            "grid_template_columns": null,
            "grid_template_rows": null,
            "height": null,
            "justify_content": null,
            "justify_items": null,
            "left": null,
            "margin": null,
            "max_height": null,
            "max_width": null,
            "min_height": null,
            "min_width": null,
            "object_fit": null,
            "object_position": null,
            "order": null,
            "overflow": null,
            "overflow_x": null,
            "overflow_y": null,
            "padding": null,
            "right": null,
            "top": null,
            "visibility": null,
            "width": null
          }
        },
        "f49e164ed64a4437a318f5681e29d14d": {
          "model_module": "@jupyter-widgets/base",
          "model_name": "LayoutModel",
          "model_module_version": "1.2.0",
          "state": {
            "_model_module": "@jupyter-widgets/base",
            "_model_module_version": "1.2.0",
            "_model_name": "LayoutModel",
            "_view_count": null,
            "_view_module": "@jupyter-widgets/base",
            "_view_module_version": "1.2.0",
            "_view_name": "LayoutView",
            "align_content": null,
            "align_items": null,
            "align_self": null,
            "border": null,
            "bottom": null,
            "display": null,
            "flex": null,
            "flex_flow": null,
            "grid_area": null,
            "grid_auto_columns": null,
            "grid_auto_flow": null,
            "grid_auto_rows": null,
            "grid_column": null,
            "grid_gap": null,
            "grid_row": null,
            "grid_template_areas": null,
            "grid_template_columns": null,
            "grid_template_rows": null,
            "height": null,
            "justify_content": null,
            "justify_items": null,
            "left": null,
            "margin": null,
            "max_height": null,
            "max_width": null,
            "min_height": null,
            "min_width": null,
            "object_fit": null,
            "object_position": null,
            "order": null,
            "overflow": null,
            "overflow_x": null,
            "overflow_y": null,
            "padding": null,
            "right": null,
            "top": null,
            "visibility": null,
            "width": null
          }
        },
        "4a3cf25e65f2470184d0232d42fe0a63": {
          "model_module": "@jupyter-widgets/controls",
          "model_name": "DescriptionStyleModel",
          "model_module_version": "1.5.0",
          "state": {
            "_model_module": "@jupyter-widgets/controls",
            "_model_module_version": "1.5.0",
            "_model_name": "DescriptionStyleModel",
            "_view_count": null,
            "_view_module": "@jupyter-widgets/base",
            "_view_module_version": "1.2.0",
            "_view_name": "StyleView",
            "description_width": ""
          }
        },
        "3e5e02c1928f469fa4be6bade77d3642": {
          "model_module": "@jupyter-widgets/base",
          "model_name": "LayoutModel",
          "model_module_version": "1.2.0",
          "state": {
            "_model_module": "@jupyter-widgets/base",
            "_model_module_version": "1.2.0",
            "_model_name": "LayoutModel",
            "_view_count": null,
            "_view_module": "@jupyter-widgets/base",
            "_view_module_version": "1.2.0",
            "_view_name": "LayoutView",
            "align_content": null,
            "align_items": null,
            "align_self": null,
            "border": null,
            "bottom": null,
            "display": null,
            "flex": null,
            "flex_flow": null,
            "grid_area": null,
            "grid_auto_columns": null,
            "grid_auto_flow": null,
            "grid_auto_rows": null,
            "grid_column": null,
            "grid_gap": null,
            "grid_row": null,
            "grid_template_areas": null,
            "grid_template_columns": null,
            "grid_template_rows": null,
            "height": null,
            "justify_content": null,
            "justify_items": null,
            "left": null,
            "margin": null,
            "max_height": null,
            "max_width": null,
            "min_height": null,
            "min_width": null,
            "object_fit": null,
            "object_position": null,
            "order": null,
            "overflow": null,
            "overflow_x": null,
            "overflow_y": null,
            "padding": null,
            "right": null,
            "top": null,
            "visibility": null,
            "width": null
          }
        },
        "2dbc941eb42c47d2978ffc33b9911c91": {
          "model_module": "@jupyter-widgets/controls",
          "model_name": "ProgressStyleModel",
          "model_module_version": "1.5.0",
          "state": {
            "_model_module": "@jupyter-widgets/controls",
            "_model_module_version": "1.5.0",
            "_model_name": "ProgressStyleModel",
            "_view_count": null,
            "_view_module": "@jupyter-widgets/base",
            "_view_module_version": "1.2.0",
            "_view_name": "StyleView",
            "bar_color": null,
            "description_width": ""
          }
        },
        "dd85ef14fa334c9cae0c03a600981ee2": {
          "model_module": "@jupyter-widgets/base",
          "model_name": "LayoutModel",
          "model_module_version": "1.2.0",
          "state": {
            "_model_module": "@jupyter-widgets/base",
            "_model_module_version": "1.2.0",
            "_model_name": "LayoutModel",
            "_view_count": null,
            "_view_module": "@jupyter-widgets/base",
            "_view_module_version": "1.2.0",
            "_view_name": "LayoutView",
            "align_content": null,
            "align_items": null,
            "align_self": null,
            "border": null,
            "bottom": null,
            "display": null,
            "flex": null,
            "flex_flow": null,
            "grid_area": null,
            "grid_auto_columns": null,
            "grid_auto_flow": null,
            "grid_auto_rows": null,
            "grid_column": null,
            "grid_gap": null,
            "grid_row": null,
            "grid_template_areas": null,
            "grid_template_columns": null,
            "grid_template_rows": null,
            "height": null,
            "justify_content": null,
            "justify_items": null,
            "left": null,
            "margin": null,
            "max_height": null,
            "max_width": null,
            "min_height": null,
            "min_width": null,
            "object_fit": null,
            "object_position": null,
            "order": null,
            "overflow": null,
            "overflow_x": null,
            "overflow_y": null,
            "padding": null,
            "right": null,
            "top": null,
            "visibility": null,
            "width": null
          }
        },
        "7afd15fc879a46b98c16861af304c0e9": {
          "model_module": "@jupyter-widgets/controls",
          "model_name": "DescriptionStyleModel",
          "model_module_version": "1.5.0",
          "state": {
            "_model_module": "@jupyter-widgets/controls",
            "_model_module_version": "1.5.0",
            "_model_name": "DescriptionStyleModel",
            "_view_count": null,
            "_view_module": "@jupyter-widgets/base",
            "_view_module_version": "1.2.0",
            "_view_name": "StyleView",
            "description_width": ""
          }
        },
        "a7eb9aee400a44149ecf8cb394c87ebf": {
          "model_module": "@jupyter-widgets/controls",
          "model_name": "HBoxModel",
          "model_module_version": "1.5.0",
          "state": {
            "_dom_classes": [],
            "_model_module": "@jupyter-widgets/controls",
            "_model_module_version": "1.5.0",
            "_model_name": "HBoxModel",
            "_view_count": null,
            "_view_module": "@jupyter-widgets/controls",
            "_view_module_version": "1.5.0",
            "_view_name": "HBoxView",
            "box_style": "",
            "children": [
              "IPY_MODEL_8b82f47db2b14e7e82179ae562d41c14",
              "IPY_MODEL_e5902a5885b241bb8c3ced5e970b5074",
              "IPY_MODEL_1a7a5a15ac6a45388880a2fa94935b07"
            ],
            "layout": "IPY_MODEL_debadcd0a5f745488e44100640854f13"
          }
        },
        "8b82f47db2b14e7e82179ae562d41c14": {
          "model_module": "@jupyter-widgets/controls",
          "model_name": "HTMLModel",
          "model_module_version": "1.5.0",
          "state": {
            "_dom_classes": [],
            "_model_module": "@jupyter-widgets/controls",
            "_model_module_version": "1.5.0",
            "_model_name": "HTMLModel",
            "_view_count": null,
            "_view_module": "@jupyter-widgets/controls",
            "_view_module_version": "1.5.0",
            "_view_name": "HTMLView",
            "description": "",
            "description_tooltip": null,
            "layout": "IPY_MODEL_7e01d1db5f514951bc881c49c2653814",
            "placeholder": "​",
            "style": "IPY_MODEL_342a4c50821b4ed4948849680ab69bb4",
            "value": "tokenizer_config.json: 100%"
          }
        },
        "e5902a5885b241bb8c3ced5e970b5074": {
          "model_module": "@jupyter-widgets/controls",
          "model_name": "FloatProgressModel",
          "model_module_version": "1.5.0",
          "state": {
            "_dom_classes": [],
            "_model_module": "@jupyter-widgets/controls",
            "_model_module_version": "1.5.0",
            "_model_name": "FloatProgressModel",
            "_view_count": null,
            "_view_module": "@jupyter-widgets/controls",
            "_view_module_version": "1.5.0",
            "_view_name": "ProgressView",
            "bar_style": "success",
            "description": "",
            "description_tooltip": null,
            "layout": "IPY_MODEL_f050b70137a84ad59d35f440d954e5a0",
            "max": 48,
            "min": 0,
            "orientation": "horizontal",
            "style": "IPY_MODEL_787aad6b23104d7d996bb00d36e8aa9e",
            "value": 48
          }
        },
        "1a7a5a15ac6a45388880a2fa94935b07": {
          "model_module": "@jupyter-widgets/controls",
          "model_name": "HTMLModel",
          "model_module_version": "1.5.0",
          "state": {
            "_dom_classes": [],
            "_model_module": "@jupyter-widgets/controls",
            "_model_module_version": "1.5.0",
            "_model_name": "HTMLModel",
            "_view_count": null,
            "_view_module": "@jupyter-widgets/controls",
            "_view_module_version": "1.5.0",
            "_view_name": "HTMLView",
            "description": "",
            "description_tooltip": null,
            "layout": "IPY_MODEL_e742eb5b45944026a5df25f8ceca6ae3",
            "placeholder": "​",
            "style": "IPY_MODEL_c11b0ba6fd224bc99538e513f16b0ca4",
            "value": " 48.0/48.0 [00:00&lt;00:00, 744B/s]"
          }
        },
        "debadcd0a5f745488e44100640854f13": {
          "model_module": "@jupyter-widgets/base",
          "model_name": "LayoutModel",
          "model_module_version": "1.2.0",
          "state": {
            "_model_module": "@jupyter-widgets/base",
            "_model_module_version": "1.2.0",
            "_model_name": "LayoutModel",
            "_view_count": null,
            "_view_module": "@jupyter-widgets/base",
            "_view_module_version": "1.2.0",
            "_view_name": "LayoutView",
            "align_content": null,
            "align_items": null,
            "align_self": null,
            "border": null,
            "bottom": null,
            "display": null,
            "flex": null,
            "flex_flow": null,
            "grid_area": null,
            "grid_auto_columns": null,
            "grid_auto_flow": null,
            "grid_auto_rows": null,
            "grid_column": null,
            "grid_gap": null,
            "grid_row": null,
            "grid_template_areas": null,
            "grid_template_columns": null,
            "grid_template_rows": null,
            "height": null,
            "justify_content": null,
            "justify_items": null,
            "left": null,
            "margin": null,
            "max_height": null,
            "max_width": null,
            "min_height": null,
            "min_width": null,
            "object_fit": null,
            "object_position": null,
            "order": null,
            "overflow": null,
            "overflow_x": null,
            "overflow_y": null,
            "padding": null,
            "right": null,
            "top": null,
            "visibility": null,
            "width": null
          }
        },
        "7e01d1db5f514951bc881c49c2653814": {
          "model_module": "@jupyter-widgets/base",
          "model_name": "LayoutModel",
          "model_module_version": "1.2.0",
          "state": {
            "_model_module": "@jupyter-widgets/base",
            "_model_module_version": "1.2.0",
            "_model_name": "LayoutModel",
            "_view_count": null,
            "_view_module": "@jupyter-widgets/base",
            "_view_module_version": "1.2.0",
            "_view_name": "LayoutView",
            "align_content": null,
            "align_items": null,
            "align_self": null,
            "border": null,
            "bottom": null,
            "display": null,
            "flex": null,
            "flex_flow": null,
            "grid_area": null,
            "grid_auto_columns": null,
            "grid_auto_flow": null,
            "grid_auto_rows": null,
            "grid_column": null,
            "grid_gap": null,
            "grid_row": null,
            "grid_template_areas": null,
            "grid_template_columns": null,
            "grid_template_rows": null,
            "height": null,
            "justify_content": null,
            "justify_items": null,
            "left": null,
            "margin": null,
            "max_height": null,
            "max_width": null,
            "min_height": null,
            "min_width": null,
            "object_fit": null,
            "object_position": null,
            "order": null,
            "overflow": null,
            "overflow_x": null,
            "overflow_y": null,
            "padding": null,
            "right": null,
            "top": null,
            "visibility": null,
            "width": null
          }
        },
        "342a4c50821b4ed4948849680ab69bb4": {
          "model_module": "@jupyter-widgets/controls",
          "model_name": "DescriptionStyleModel",
          "model_module_version": "1.5.0",
          "state": {
            "_model_module": "@jupyter-widgets/controls",
            "_model_module_version": "1.5.0",
            "_model_name": "DescriptionStyleModel",
            "_view_count": null,
            "_view_module": "@jupyter-widgets/base",
            "_view_module_version": "1.2.0",
            "_view_name": "StyleView",
            "description_width": ""
          }
        },
        "f050b70137a84ad59d35f440d954e5a0": {
          "model_module": "@jupyter-widgets/base",
          "model_name": "LayoutModel",
          "model_module_version": "1.2.0",
          "state": {
            "_model_module": "@jupyter-widgets/base",
            "_model_module_version": "1.2.0",
            "_model_name": "LayoutModel",
            "_view_count": null,
            "_view_module": "@jupyter-widgets/base",
            "_view_module_version": "1.2.0",
            "_view_name": "LayoutView",
            "align_content": null,
            "align_items": null,
            "align_self": null,
            "border": null,
            "bottom": null,
            "display": null,
            "flex": null,
            "flex_flow": null,
            "grid_area": null,
            "grid_auto_columns": null,
            "grid_auto_flow": null,
            "grid_auto_rows": null,
            "grid_column": null,
            "grid_gap": null,
            "grid_row": null,
            "grid_template_areas": null,
            "grid_template_columns": null,
            "grid_template_rows": null,
            "height": null,
            "justify_content": null,
            "justify_items": null,
            "left": null,
            "margin": null,
            "max_height": null,
            "max_width": null,
            "min_height": null,
            "min_width": null,
            "object_fit": null,
            "object_position": null,
            "order": null,
            "overflow": null,
            "overflow_x": null,
            "overflow_y": null,
            "padding": null,
            "right": null,
            "top": null,
            "visibility": null,
            "width": null
          }
        },
        "787aad6b23104d7d996bb00d36e8aa9e": {
          "model_module": "@jupyter-widgets/controls",
          "model_name": "ProgressStyleModel",
          "model_module_version": "1.5.0",
          "state": {
            "_model_module": "@jupyter-widgets/controls",
            "_model_module_version": "1.5.0",
            "_model_name": "ProgressStyleModel",
            "_view_count": null,
            "_view_module": "@jupyter-widgets/base",
            "_view_module_version": "1.2.0",
            "_view_name": "StyleView",
            "bar_color": null,
            "description_width": ""
          }
        },
        "e742eb5b45944026a5df25f8ceca6ae3": {
          "model_module": "@jupyter-widgets/base",
          "model_name": "LayoutModel",
          "model_module_version": "1.2.0",
          "state": {
            "_model_module": "@jupyter-widgets/base",
            "_model_module_version": "1.2.0",
            "_model_name": "LayoutModel",
            "_view_count": null,
            "_view_module": "@jupyter-widgets/base",
            "_view_module_version": "1.2.0",
            "_view_name": "LayoutView",
            "align_content": null,
            "align_items": null,
            "align_self": null,
            "border": null,
            "bottom": null,
            "display": null,
            "flex": null,
            "flex_flow": null,
            "grid_area": null,
            "grid_auto_columns": null,
            "grid_auto_flow": null,
            "grid_auto_rows": null,
            "grid_column": null,
            "grid_gap": null,
            "grid_row": null,
            "grid_template_areas": null,
            "grid_template_columns": null,
            "grid_template_rows": null,
            "height": null,
            "justify_content": null,
            "justify_items": null,
            "left": null,
            "margin": null,
            "max_height": null,
            "max_width": null,
            "min_height": null,
            "min_width": null,
            "object_fit": null,
            "object_position": null,
            "order": null,
            "overflow": null,
            "overflow_x": null,
            "overflow_y": null,
            "padding": null,
            "right": null,
            "top": null,
            "visibility": null,
            "width": null
          }
        },
        "c11b0ba6fd224bc99538e513f16b0ca4": {
          "model_module": "@jupyter-widgets/controls",
          "model_name": "DescriptionStyleModel",
          "model_module_version": "1.5.0",
          "state": {
            "_model_module": "@jupyter-widgets/controls",
            "_model_module_version": "1.5.0",
            "_model_name": "DescriptionStyleModel",
            "_view_count": null,
            "_view_module": "@jupyter-widgets/base",
            "_view_module_version": "1.2.0",
            "_view_name": "StyleView",
            "description_width": ""
          }
        },
        "08ad46ef6b134c23bdb26c879955f072": {
          "model_module": "@jupyter-widgets/controls",
          "model_name": "HBoxModel",
          "model_module_version": "1.5.0",
          "state": {
            "_dom_classes": [],
            "_model_module": "@jupyter-widgets/controls",
            "_model_module_version": "1.5.0",
            "_model_name": "HBoxModel",
            "_view_count": null,
            "_view_module": "@jupyter-widgets/controls",
            "_view_module_version": "1.5.0",
            "_view_name": "HBoxView",
            "box_style": "",
            "children": [
              "IPY_MODEL_4169c285929b46169a3d80f0f40ac73d",
              "IPY_MODEL_62f00f5882464631832d0dc167261afb",
              "IPY_MODEL_78c9234577e2403d98c68f58631db831"
            ],
            "layout": "IPY_MODEL_6cc68057a4e742bf9004614a1d0e3d84"
          }
        },
        "4169c285929b46169a3d80f0f40ac73d": {
          "model_module": "@jupyter-widgets/controls",
          "model_name": "HTMLModel",
          "model_module_version": "1.5.0",
          "state": {
            "_dom_classes": [],
            "_model_module": "@jupyter-widgets/controls",
            "_model_module_version": "1.5.0",
            "_model_name": "HTMLModel",
            "_view_count": null,
            "_view_module": "@jupyter-widgets/controls",
            "_view_module_version": "1.5.0",
            "_view_name": "HTMLView",
            "description": "",
            "description_tooltip": null,
            "layout": "IPY_MODEL_22544dbeb5d64253a2b8e99faa6f6b3a",
            "placeholder": "​",
            "style": "IPY_MODEL_90fccda22f7e44f3af1ea46565a31d30",
            "value": "vocab.txt: 100%"
          }
        },
        "62f00f5882464631832d0dc167261afb": {
          "model_module": "@jupyter-widgets/controls",
          "model_name": "FloatProgressModel",
          "model_module_version": "1.5.0",
          "state": {
            "_dom_classes": [],
            "_model_module": "@jupyter-widgets/controls",
            "_model_module_version": "1.5.0",
            "_model_name": "FloatProgressModel",
            "_view_count": null,
            "_view_module": "@jupyter-widgets/controls",
            "_view_module_version": "1.5.0",
            "_view_name": "ProgressView",
            "bar_style": "success",
            "description": "",
            "description_tooltip": null,
            "layout": "IPY_MODEL_d3bcd12c44e34bada97cb02fe21d27f9",
            "max": 231508,
            "min": 0,
            "orientation": "horizontal",
            "style": "IPY_MODEL_e68d979112954629a4c8812199d913cd",
            "value": 231508
          }
        },
        "78c9234577e2403d98c68f58631db831": {
          "model_module": "@jupyter-widgets/controls",
          "model_name": "HTMLModel",
          "model_module_version": "1.5.0",
          "state": {
            "_dom_classes": [],
            "_model_module": "@jupyter-widgets/controls",
            "_model_module_version": "1.5.0",
            "_model_name": "HTMLModel",
            "_view_count": null,
            "_view_module": "@jupyter-widgets/controls",
            "_view_module_version": "1.5.0",
            "_view_name": "HTMLView",
            "description": "",
            "description_tooltip": null,
            "layout": "IPY_MODEL_c81b74a7d01d4b7e8235af4d2fa372bb",
            "placeholder": "​",
            "style": "IPY_MODEL_d70fbc4cdae7493391bd39ceeb7c3d4d",
            "value": " 232k/232k [00:00&lt;00:00, 2.03MB/s]"
          }
        },
        "6cc68057a4e742bf9004614a1d0e3d84": {
          "model_module": "@jupyter-widgets/base",
          "model_name": "LayoutModel",
          "model_module_version": "1.2.0",
          "state": {
            "_model_module": "@jupyter-widgets/base",
            "_model_module_version": "1.2.0",
            "_model_name": "LayoutModel",
            "_view_count": null,
            "_view_module": "@jupyter-widgets/base",
            "_view_module_version": "1.2.0",
            "_view_name": "LayoutView",
            "align_content": null,
            "align_items": null,
            "align_self": null,
            "border": null,
            "bottom": null,
            "display": null,
            "flex": null,
            "flex_flow": null,
            "grid_area": null,
            "grid_auto_columns": null,
            "grid_auto_flow": null,
            "grid_auto_rows": null,
            "grid_column": null,
            "grid_gap": null,
            "grid_row": null,
            "grid_template_areas": null,
            "grid_template_columns": null,
            "grid_template_rows": null,
            "height": null,
            "justify_content": null,
            "justify_items": null,
            "left": null,
            "margin": null,
            "max_height": null,
            "max_width": null,
            "min_height": null,
            "min_width": null,
            "object_fit": null,
            "object_position": null,
            "order": null,
            "overflow": null,
            "overflow_x": null,
            "overflow_y": null,
            "padding": null,
            "right": null,
            "top": null,
            "visibility": null,
            "width": null
          }
        },
        "22544dbeb5d64253a2b8e99faa6f6b3a": {
          "model_module": "@jupyter-widgets/base",
          "model_name": "LayoutModel",
          "model_module_version": "1.2.0",
          "state": {
            "_model_module": "@jupyter-widgets/base",
            "_model_module_version": "1.2.0",
            "_model_name": "LayoutModel",
            "_view_count": null,
            "_view_module": "@jupyter-widgets/base",
            "_view_module_version": "1.2.0",
            "_view_name": "LayoutView",
            "align_content": null,
            "align_items": null,
            "align_self": null,
            "border": null,
            "bottom": null,
            "display": null,
            "flex": null,
            "flex_flow": null,
            "grid_area": null,
            "grid_auto_columns": null,
            "grid_auto_flow": null,
            "grid_auto_rows": null,
            "grid_column": null,
            "grid_gap": null,
            "grid_row": null,
            "grid_template_areas": null,
            "grid_template_columns": null,
            "grid_template_rows": null,
            "height": null,
            "justify_content": null,
            "justify_items": null,
            "left": null,
            "margin": null,
            "max_height": null,
            "max_width": null,
            "min_height": null,
            "min_width": null,
            "object_fit": null,
            "object_position": null,
            "order": null,
            "overflow": null,
            "overflow_x": null,
            "overflow_y": null,
            "padding": null,
            "right": null,
            "top": null,
            "visibility": null,
            "width": null
          }
        },
        "90fccda22f7e44f3af1ea46565a31d30": {
          "model_module": "@jupyter-widgets/controls",
          "model_name": "DescriptionStyleModel",
          "model_module_version": "1.5.0",
          "state": {
            "_model_module": "@jupyter-widgets/controls",
            "_model_module_version": "1.5.0",
            "_model_name": "DescriptionStyleModel",
            "_view_count": null,
            "_view_module": "@jupyter-widgets/base",
            "_view_module_version": "1.2.0",
            "_view_name": "StyleView",
            "description_width": ""
          }
        },
        "d3bcd12c44e34bada97cb02fe21d27f9": {
          "model_module": "@jupyter-widgets/base",
          "model_name": "LayoutModel",
          "model_module_version": "1.2.0",
          "state": {
            "_model_module": "@jupyter-widgets/base",
            "_model_module_version": "1.2.0",
            "_model_name": "LayoutModel",
            "_view_count": null,
            "_view_module": "@jupyter-widgets/base",
            "_view_module_version": "1.2.0",
            "_view_name": "LayoutView",
            "align_content": null,
            "align_items": null,
            "align_self": null,
            "border": null,
            "bottom": null,
            "display": null,
            "flex": null,
            "flex_flow": null,
            "grid_area": null,
            "grid_auto_columns": null,
            "grid_auto_flow": null,
            "grid_auto_rows": null,
            "grid_column": null,
            "grid_gap": null,
            "grid_row": null,
            "grid_template_areas": null,
            "grid_template_columns": null,
            "grid_template_rows": null,
            "height": null,
            "justify_content": null,
            "justify_items": null,
            "left": null,
            "margin": null,
            "max_height": null,
            "max_width": null,
            "min_height": null,
            "min_width": null,
            "object_fit": null,
            "object_position": null,
            "order": null,
            "overflow": null,
            "overflow_x": null,
            "overflow_y": null,
            "padding": null,
            "right": null,
            "top": null,
            "visibility": null,
            "width": null
          }
        },
        "e68d979112954629a4c8812199d913cd": {
          "model_module": "@jupyter-widgets/controls",
          "model_name": "ProgressStyleModel",
          "model_module_version": "1.5.0",
          "state": {
            "_model_module": "@jupyter-widgets/controls",
            "_model_module_version": "1.5.0",
            "_model_name": "ProgressStyleModel",
            "_view_count": null,
            "_view_module": "@jupyter-widgets/base",
            "_view_module_version": "1.2.0",
            "_view_name": "StyleView",
            "bar_color": null,
            "description_width": ""
          }
        },
        "c81b74a7d01d4b7e8235af4d2fa372bb": {
          "model_module": "@jupyter-widgets/base",
          "model_name": "LayoutModel",
          "model_module_version": "1.2.0",
          "state": {
            "_model_module": "@jupyter-widgets/base",
            "_model_module_version": "1.2.0",
            "_model_name": "LayoutModel",
            "_view_count": null,
            "_view_module": "@jupyter-widgets/base",
            "_view_module_version": "1.2.0",
            "_view_name": "LayoutView",
            "align_content": null,
            "align_items": null,
            "align_self": null,
            "border": null,
            "bottom": null,
            "display": null,
            "flex": null,
            "flex_flow": null,
            "grid_area": null,
            "grid_auto_columns": null,
            "grid_auto_flow": null,
            "grid_auto_rows": null,
            "grid_column": null,
            "grid_gap": null,
            "grid_row": null,
            "grid_template_areas": null,
            "grid_template_columns": null,
            "grid_template_rows": null,
            "height": null,
            "justify_content": null,
            "justify_items": null,
            "left": null,
            "margin": null,
            "max_height": null,
            "max_width": null,
            "min_height": null,
            "min_width": null,
            "object_fit": null,
            "object_position": null,
            "order": null,
            "overflow": null,
            "overflow_x": null,
            "overflow_y": null,
            "padding": null,
            "right": null,
            "top": null,
            "visibility": null,
            "width": null
          }
        },
        "d70fbc4cdae7493391bd39ceeb7c3d4d": {
          "model_module": "@jupyter-widgets/controls",
          "model_name": "DescriptionStyleModel",
          "model_module_version": "1.5.0",
          "state": {
            "_model_module": "@jupyter-widgets/controls",
            "_model_module_version": "1.5.0",
            "_model_name": "DescriptionStyleModel",
            "_view_count": null,
            "_view_module": "@jupyter-widgets/base",
            "_view_module_version": "1.2.0",
            "_view_name": "StyleView",
            "description_width": ""
          }
        }
      }
    }
  },
  "nbformat": 4,
  "nbformat_minor": 0
}